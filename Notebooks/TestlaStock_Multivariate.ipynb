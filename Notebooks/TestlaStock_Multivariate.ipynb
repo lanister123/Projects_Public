{
  "nbformat": 4,
  "nbformat_minor": 0,
  "metadata": {
    "colab": {
      "name": "TestlaStock_Multivariate.ipynb",
      "provenance": [],
      "collapsed_sections": []
    },
    "kernelspec": {
      "name": "python3",
      "display_name": "Python 3"
    },
    "language_info": {
      "name": "python"
    }
  },
  "cells": [
    {
      "cell_type": "markdown",
      "metadata": {
        "id": "Z78Fr1ed2JCR"
      },
      "source": [
        "Imports"
      ]
    },
    {
      "cell_type": "code",
      "metadata": {
        "id": "QKX-32K62IC-"
      },
      "source": [
        "import warnings\n",
        "import numpy as np\n",
        "import pandas as pd\n",
        "import xgboost as xgb\n",
        "import tensorflow as tf\n",
        "from sklearn.svm import SVR\n",
        "import matplotlib.pyplot as plt\n",
        "from sklearn.externals import joblib \n",
        "from tensorflow.keras.models import Sequential\n",
        "from sklearn.metrics import mean_squared_error\n",
        "from sklearn.preprocessing import MinMaxScaler, StandardScaler\n",
        "from statsmodels.tsa.arima_model import ARIMA\n",
        "from statsmodels.tsa.stattools import adfuller\n",
        "from sklearn.model_selection import train_test_split\n",
        "from statsmodels.tsa.seasonal import seasonal_decompose\n",
        "from statsmodels.graphics.tsaplots import plot_acf, plot_pacf \n",
        "from statsmodels.tools.sm_exceptions import ConvergenceWarning\n",
        "from tensorflow.keras.layers import Dense, Dropout, LSTM\n",
        "from statsmodels.stats.outliers_influence import variance_inflation_factor\n",
        "from tensorflow.keras.layers import Conv1D, Conv2D, Activation,MaxPooling1D, MaxPooling2D, Flatten, AveragePooling1D\n",
        "warnings.simplefilter('ignore', ConvergenceWarning)\n",
        "warnings.simplefilter(action='ignore', category=FutureWarning)"
      ],
      "execution_count": 113,
      "outputs": []
    },
    {
      "cell_type": "markdown",
      "metadata": {
        "id": "fIsKETdm0cM3"
      },
      "source": [
        "# **Sentiment Analysis on Elon Musk News Articles**"
      ]
    },
    {
      "cell_type": "code",
      "metadata": {
        "id": "e23lti4TzqGi"
      },
      "source": [
        "#!pip install vaderSentiment"
      ],
      "execution_count": 114,
      "outputs": []
    },
    {
      "cell_type": "code",
      "metadata": {
        "id": "z2XqrF5A01mG"
      },
      "source": [
        "import re\n",
        "import string\n",
        "import calendar\n",
        "import requests\n",
        "import numpy as np\n",
        "import pandas as pd\n",
        "from bs4 import BeautifulSoup\n",
        "import matplotlib.pyplot as plt\n",
        "from vaderSentiment.vaderSentiment import SentimentIntensityAnalyzer"
      ],
      "execution_count": 115,
      "outputs": []
    },
    {
      "cell_type": "code",
      "metadata": {
        "id": "8P75Gels_ZAf"
      },
      "source": [
        "sentiment_Analysis = 0"
      ],
      "execution_count": 116,
      "outputs": []
    },
    {
      "cell_type": "code",
      "metadata": {
        "id": "O4bq7rxD1CnT"
      },
      "source": [
        "df = pd.read_csv('/content/drive/MyDrive/dataset/stock_prices.csv')"
      ],
      "execution_count": 117,
      "outputs": []
    },
    {
      "cell_type": "code",
      "metadata": {
        "colab": {
          "base_uri": "https://localhost:8080/",
          "height": 424
        },
        "id": "ns0dgme11LbD",
        "outputId": "f1a03f77-8ce5-4a86-a9c8-c3c7f0016d7d"
      },
      "source": [
        "df"
      ],
      "execution_count": 118,
      "outputs": [
        {
          "output_type": "execute_result",
          "data": {
            "text/html": [
              "<div>\n",
              "<style scoped>\n",
              "    .dataframe tbody tr th:only-of-type {\n",
              "        vertical-align: middle;\n",
              "    }\n",
              "\n",
              "    .dataframe tbody tr th {\n",
              "        vertical-align: top;\n",
              "    }\n",
              "\n",
              "    .dataframe thead th {\n",
              "        text-align: right;\n",
              "    }\n",
              "</style>\n",
              "<table border=\"1\" class=\"dataframe\">\n",
              "  <thead>\n",
              "    <tr style=\"text-align: right;\">\n",
              "      <th></th>\n",
              "      <th>Date</th>\n",
              "      <th>Open</th>\n",
              "      <th>High</th>\n",
              "      <th>Low</th>\n",
              "      <th>Close</th>\n",
              "      <th>Volume</th>\n",
              "    </tr>\n",
              "  </thead>\n",
              "  <tbody>\n",
              "    <tr>\n",
              "      <th>0</th>\n",
              "      <td>2013-01-02</td>\n",
              "      <td>7.000000</td>\n",
              "      <td>7.090000</td>\n",
              "      <td>6.942000</td>\n",
              "      <td>7.072000</td>\n",
              "      <td>5974000</td>\n",
              "    </tr>\n",
              "    <tr>\n",
              "      <th>1</th>\n",
              "      <td>2013-01-03</td>\n",
              "      <td>7.036000</td>\n",
              "      <td>7.090000</td>\n",
              "      <td>6.950000</td>\n",
              "      <td>6.954000</td>\n",
              "      <td>3710000</td>\n",
              "    </tr>\n",
              "    <tr>\n",
              "      <th>2</th>\n",
              "      <td>2013-01-04</td>\n",
              "      <td>6.960000</td>\n",
              "      <td>6.960000</td>\n",
              "      <td>6.784000</td>\n",
              "      <td>6.880000</td>\n",
              "      <td>3370000</td>\n",
              "    </tr>\n",
              "    <tr>\n",
              "      <th>3</th>\n",
              "      <td>2013-01-07</td>\n",
              "      <td>6.960000</td>\n",
              "      <td>6.960000</td>\n",
              "      <td>6.780000</td>\n",
              "      <td>6.868000</td>\n",
              "      <td>2210000</td>\n",
              "    </tr>\n",
              "    <tr>\n",
              "      <th>4</th>\n",
              "      <td>2013-01-08</td>\n",
              "      <td>6.900000</td>\n",
              "      <td>6.900000</td>\n",
              "      <td>6.622000</td>\n",
              "      <td>6.736000</td>\n",
              "      <td>6420000</td>\n",
              "    </tr>\n",
              "    <tr>\n",
              "      <th>...</th>\n",
              "      <td>...</td>\n",
              "      <td>...</td>\n",
              "      <td>...</td>\n",
              "      <td>...</td>\n",
              "      <td>...</td>\n",
              "      <td>...</td>\n",
              "    </tr>\n",
              "    <tr>\n",
              "      <th>2133</th>\n",
              "      <td>2021-06-23</td>\n",
              "      <td>632.000000</td>\n",
              "      <td>657.200012</td>\n",
              "      <td>630.039978</td>\n",
              "      <td>656.570007</td>\n",
              "      <td>31099200</td>\n",
              "    </tr>\n",
              "    <tr>\n",
              "      <th>2134</th>\n",
              "      <td>2021-06-24</td>\n",
              "      <td>674.989990</td>\n",
              "      <td>697.619995</td>\n",
              "      <td>667.609985</td>\n",
              "      <td>679.820007</td>\n",
              "      <td>45982400</td>\n",
              "    </tr>\n",
              "    <tr>\n",
              "      <th>2135</th>\n",
              "      <td>2021-06-25</td>\n",
              "      <td>689.580017</td>\n",
              "      <td>693.809998</td>\n",
              "      <td>668.700012</td>\n",
              "      <td>671.869995</td>\n",
              "      <td>32496700</td>\n",
              "    </tr>\n",
              "    <tr>\n",
              "      <th>2136</th>\n",
              "      <td>2021-06-28</td>\n",
              "      <td>671.640015</td>\n",
              "      <td>694.700012</td>\n",
              "      <td>670.320007</td>\n",
              "      <td>688.719971</td>\n",
              "      <td>21628200</td>\n",
              "    </tr>\n",
              "    <tr>\n",
              "      <th>2137</th>\n",
              "      <td>2021-06-29</td>\n",
              "      <td>684.650024</td>\n",
              "      <td>687.510010</td>\n",
              "      <td>675.890015</td>\n",
              "      <td>680.760010</td>\n",
              "      <td>17381300</td>\n",
              "    </tr>\n",
              "  </tbody>\n",
              "</table>\n",
              "<p>2138 rows × 6 columns</p>\n",
              "</div>"
            ],
            "text/plain": [
              "            Date        Open        High         Low       Close    Volume\n",
              "0     2013-01-02    7.000000    7.090000    6.942000    7.072000   5974000\n",
              "1     2013-01-03    7.036000    7.090000    6.950000    6.954000   3710000\n",
              "2     2013-01-04    6.960000    6.960000    6.784000    6.880000   3370000\n",
              "3     2013-01-07    6.960000    6.960000    6.780000    6.868000   2210000\n",
              "4     2013-01-08    6.900000    6.900000    6.622000    6.736000   6420000\n",
              "...          ...         ...         ...         ...         ...       ...\n",
              "2133  2021-06-23  632.000000  657.200012  630.039978  656.570007  31099200\n",
              "2134  2021-06-24  674.989990  697.619995  667.609985  679.820007  45982400\n",
              "2135  2021-06-25  689.580017  693.809998  668.700012  671.869995  32496700\n",
              "2136  2021-06-28  671.640015  694.700012  670.320007  688.719971  21628200\n",
              "2137  2021-06-29  684.650024  687.510010  675.890015  680.760010  17381300\n",
              "\n",
              "[2138 rows x 6 columns]"
            ]
          },
          "metadata": {
            "tags": []
          },
          "execution_count": 118
        }
      ]
    },
    {
      "cell_type": "markdown",
      "metadata": {
        "id": "cvA-aPB_1QpW"
      },
      "source": [
        "Get the news article links for 325 pages"
      ]
    },
    {
      "cell_type": "code",
      "metadata": {
        "id": "tIYSWCd71Mr9"
      },
      "source": [
        "def getLinks():\n",
        "    pages = 325\n",
        "    searchText = \"Elon+Musk\"\n",
        "    links = []\n",
        "\n",
        "    for i in range(1, pages):\n",
        "        if i == 1:\n",
        "          url = \"https://financialpost.com/search/?search_text={0}&date_range=-3650d&sort=asc\".format(searchText)\n",
        "        else:\n",
        "          url = \"https://financialpost.com/search/?search_text={0}&date_range=-3650d&sort=asc&from={1}\".format(searchText, str((i-1)*10))\n",
        "        \n",
        "        contents = BeautifulSoup(requests.get(url).content, \"html.parser\")\n",
        "        srcData = contents.select(\"a.article-card__link\")\n",
        "        \n",
        "        links = links + [\"https://financialpost.com\"+str(row['href']) for row in srcData]\n",
        "      \n",
        "    links_df = pd.DataFrame(links)\n",
        "    links_df.to_csv(\"/content/drive/MyDrive/dataset/Links.csv\")"
      ],
      "execution_count": 119,
      "outputs": []
    },
    {
      "cell_type": "markdown",
      "metadata": {
        "id": "aQ_h5n6B1aGb"
      },
      "source": [
        "Get the news article and create dataframe"
      ]
    },
    {
      "cell_type": "code",
      "metadata": {
        "id": "en7LalGU1XBe"
      },
      "source": [
        "def getNewsarticles():\n",
        "    df_text = pd.DataFrame(columns=['Date', 'URL', 'Full_Text'])\n",
        "    for i in range(0, len(links)):\n",
        "      print(i)\n",
        "      url = links_df[0][i]\n",
        "      contentsData = BeautifulSoup(requests.get(url).content, \"html.parser\")\n",
        "      try:\n",
        "          data = contentsData.find(\"article\",class_ = \"article-content-story article-content-story--story\").find_all(\"p\")\n",
        "      except:\n",
        "          data = contentsData.find(\"article\",class_ = \"article-content-story article-content-story--story\").find(\"p\")\n",
        "      text = [p.text for p in data]\n",
        "      try:\n",
        "          dateList = re.sub(r'[-,:;]', '', contentsData.find(\"span\",class_ = \"published-date__since\").text).split(' ')\n",
        "      except:\n",
        "          dateList = re.sub(r'[-,:;]', '', contentsData.find_all(\"span\",class_ = \"published-date__since\").text).split(' ')\n",
        "\n",
        "      month_num = list(calendar.month_abbr).index(dateList[0])\n",
        "      date = dateList[1]\n",
        "      if len(str(date))==1:\n",
        "        date = '0'+ str(date)\n",
        "      if len(str(month_num))==1:\n",
        "        month_num = '0' + str(month_num)\n",
        "      art_Date = '{0}-{1}-{2}'.format(dateList[2], month_num, date)\n",
        "\n",
        "      df_text = df_text.append({'Date': art_Date, 'URL': url, 'Full_Text': text}, ignore_index=True)\n",
        "\n",
        "    df_text.to_csv(\"/content/drive/MyDrive/dataset/ArticleText.csv\")"
      ],
      "execution_count": 120,
      "outputs": []
    },
    {
      "cell_type": "markdown",
      "metadata": {
        "id": "1-oGDPam1fNM"
      },
      "source": [
        "Polarity analysis of News article"
      ]
    },
    {
      "cell_type": "code",
      "metadata": {
        "id": "QVglzoY71jdb"
      },
      "source": [
        "def polarityanalysis():\n",
        "    single = []\n",
        "    paragraph = []\n",
        "    handler = SentimentIntensityAnalyzer()\n",
        "\n",
        "    df_text = pd.read_csv('/content/drive/MyDrive/dataset/ArticleText.csv')\n",
        "\n",
        "    for i in range(0, len(df_text)):\n",
        "      tempText = re.sub(r\"[\\',]\", '', df_text['Full_Text'][i])\n",
        "      sentText = re.split('(?<!\\w\\.\\w.)(?<![A-Z][a-z]\\.)(?<=\\.|\\?)\\s',tempText)\n",
        "      sentText = sentText[:len(sentText)-10]\n",
        "      temp_Single = []\n",
        "      \n",
        "      for j in sentText:\n",
        "        temp_Single.append(handler.polarity_scores(j)['compound'])   \n",
        "\n",
        "      single.append(np.mean(temp_Single))\n",
        "      paragraph.append(handler.polarity_scores(sentText)['compound'])\n",
        "\n",
        "    df_text['Single_Line'] = single\n",
        "    df_text['Whole_Paragraph'] = paragraph\n",
        "\n",
        "    df_text.drop(columns=['URL', 'Full_Text', 'Unnamed: 0'])\n",
        "\n",
        "    aggregation_functions = {'Single_Line': 'mean', 'Whole_Paragraph': 'mean'}\n",
        "    df_text = df_text.groupby(df_text['Date']).aggregate(aggregation_functions)\n",
        "\n",
        "    df_merge = pd.merge(df, df_text, on=['Date'], how='left')\n",
        "    df_merge = df_merge.fillna(0)\n",
        "\n",
        "    df_merge.to_csv(\"/content/drive/MyDrive/dataset/merged_df.csv\")"
      ],
      "execution_count": 121,
      "outputs": []
    },
    {
      "cell_type": "code",
      "metadata": {
        "id": "iF3POUvK1qV6"
      },
      "source": [
        "if sentiment_Analysis == 1:\n",
        "    getLinks()\n",
        "    getNewsarticles()\n",
        "    polarityanalysis()"
      ],
      "execution_count": 122,
      "outputs": []
    },
    {
      "cell_type": "markdown",
      "metadata": {
        "id": "_Wf82nyD111x"
      },
      "source": [
        "# **Model1- LSTM**"
      ]
    },
    {
      "cell_type": "code",
      "metadata": {
        "id": "ImEOAZeS11Fr"
      },
      "source": [
        "df = pd.read_csv('/content/drive/MyDrive/dataset/merged_df.csv')"
      ],
      "execution_count": 123,
      "outputs": []
    },
    {
      "cell_type": "code",
      "metadata": {
        "id": "LbZG8jbk3CjO"
      },
      "source": [
        "df['Date'] = pd.to_datetime(df['Date'])\n",
        "df.set_index('Date', inplace=True)"
      ],
      "execution_count": 124,
      "outputs": []
    },
    {
      "cell_type": "code",
      "metadata": {
        "id": "h2Czdzx73GNx"
      },
      "source": [
        "df = df.drop(df.loc[:, ~df.columns.isin(['Volume', 'Close', 'Single_Line'])].columns, axis = 1)"
      ],
      "execution_count": 125,
      "outputs": []
    },
    {
      "cell_type": "markdown",
      "metadata": {
        "id": "iwp-bzxR3KAo"
      },
      "source": [
        "Check Multi Colinearity of features"
      ]
    },
    {
      "cell_type": "code",
      "metadata": {
        "colab": {
          "base_uri": "https://localhost:8080/",
          "height": 144
        },
        "id": "gVT5Z5EL3HvP",
        "outputId": "d7928e80-3703-405c-8b03-35459ef40ba3"
      },
      "source": [
        "vif = pd.DataFrame()\n",
        "vif[\"variables\"] = df.columns\n",
        "vif[\"VIF\"] = [variance_inflation_factor(df.values, i) for i in range(df.shape[1])]\n",
        "vif"
      ],
      "execution_count": 126,
      "outputs": [
        {
          "output_type": "execute_result",
          "data": {
            "text/html": [
              "<div>\n",
              "<style scoped>\n",
              "    .dataframe tbody tr th:only-of-type {\n",
              "        vertical-align: middle;\n",
              "    }\n",
              "\n",
              "    .dataframe tbody tr th {\n",
              "        vertical-align: top;\n",
              "    }\n",
              "\n",
              "    .dataframe thead th {\n",
              "        text-align: right;\n",
              "    }\n",
              "</style>\n",
              "<table border=\"1\" class=\"dataframe\">\n",
              "  <thead>\n",
              "    <tr style=\"text-align: right;\">\n",
              "      <th></th>\n",
              "      <th>variables</th>\n",
              "      <th>VIF</th>\n",
              "    </tr>\n",
              "  </thead>\n",
              "  <tbody>\n",
              "    <tr>\n",
              "      <th>0</th>\n",
              "      <td>Close</td>\n",
              "      <td>1.484850</td>\n",
              "    </tr>\n",
              "    <tr>\n",
              "      <th>1</th>\n",
              "      <td>Volume</td>\n",
              "      <td>1.428596</td>\n",
              "    </tr>\n",
              "    <tr>\n",
              "      <th>2</th>\n",
              "      <td>Single_Line</td>\n",
              "      <td>1.423371</td>\n",
              "    </tr>\n",
              "  </tbody>\n",
              "</table>\n",
              "</div>"
            ],
            "text/plain": [
              "     variables       VIF\n",
              "0        Close  1.484850\n",
              "1       Volume  1.428596\n",
              "2  Single_Line  1.423371"
            ]
          },
          "metadata": {
            "tags": []
          },
          "execution_count": 126
        }
      ]
    },
    {
      "cell_type": "markdown",
      "metadata": {
        "id": "TwUKHzVc3T65"
      },
      "source": [
        "Split Dataset"
      ]
    },
    {
      "cell_type": "code",
      "metadata": {
        "id": "gt2wzctt3QBb"
      },
      "source": [
        "sample, test = train_test_split(df, test_size=0.005, shuffle = False)\n",
        "train, val = train_test_split(sample, train_size = 0.8, shuffle = False)"
      ],
      "execution_count": 127,
      "outputs": []
    },
    {
      "cell_type": "markdown",
      "metadata": {
        "id": "FNBDvYE_3Y5A"
      },
      "source": [
        "Scaling Data"
      ]
    },
    {
      "cell_type": "code",
      "metadata": {
        "id": "9iuKtTY23W9k"
      },
      "source": [
        "scaler = MinMaxScaler(feature_range=(0,1))\n",
        "scaled_data_train = scaler.fit_transform(train)\n",
        "scaled_data_validate = scaler.fit_transform(val)\n",
        "val_Test = np.concatenate((val, test))\n",
        "scaled_data_validate_test = scaler.fit_transform(val_Test)"
      ],
      "execution_count": 128,
      "outputs": []
    },
    {
      "cell_type": "code",
      "metadata": {
        "id": "uAQyKHQm3bkf"
      },
      "source": [
        "timeStep = 50\n",
        "train_X, train_Y = [], []\n",
        "val_X, val_Y = [], []\n",
        "\n",
        "for i in range(timeStep, len(scaled_data_train)):\n",
        "  train_X.append(scaled_data_train[i-timeStep:i,:])\n",
        "  train_Y.append([scaled_data_train[i, 0]])\n",
        "\n",
        "for i in range(timeStep, len(scaled_data_validate)):   \n",
        "  val_X.append(scaled_data_validate[i-timeStep:i,:])\n",
        "  val_Y.append([scaled_data_validate[i, 0]])\n",
        "\n",
        "train_X, train_Y = np.array(train_X), np.array(train_Y)\n",
        "val_X, val_Y = np.array(val_X), np.array(val_Y)"
      ],
      "execution_count": 129,
      "outputs": []
    },
    {
      "cell_type": "markdown",
      "metadata": {
        "id": "N1hDUKnM3e2z"
      },
      "source": [
        "Model Creation"
      ]
    },
    {
      "cell_type": "code",
      "metadata": {
        "id": "aeS92QEltV0y"
      },
      "source": [
        "model1 = Sequential()\n",
        "model1.add(LSTM(50,  return_sequences=False, input_shape=(train_X.shape[1], train_X.shape[2])))\n",
        "model1.add(Dense(1))\n",
        "model1.compile(optimizer='Adam', loss='mean_squared_error')"
      ],
      "execution_count": null,
      "outputs": []
    },
    {
      "cell_type": "code",
      "metadata": {
        "colab": {
          "base_uri": "https://localhost:8080/"
        },
        "id": "i4b04g1atV0y",
        "outputId": "603aefd8-8033-478f-920a-d4c415fd9f1f"
      },
      "source": [
        "model1.fit(train_X, train_Y, epochs=50, batch_size=50, verbose=1)"
      ],
      "execution_count": null,
      "outputs": [
        {
          "output_type": "stream",
          "text": [
            "Epoch 1/50\n",
            "34/34 [==============================] - 2s 23ms/step - loss: 0.0011\n",
            "Epoch 2/50\n",
            "34/34 [==============================] - 1s 22ms/step - loss: 0.0011\n",
            "Epoch 3/50\n",
            "34/34 [==============================] - 1s 21ms/step - loss: 0.0010\n",
            "Epoch 4/50\n",
            "34/34 [==============================] - 1s 22ms/step - loss: 0.0010\n",
            "Epoch 5/50\n",
            "34/34 [==============================] - 1s 22ms/step - loss: 0.0010\n",
            "Epoch 6/50\n",
            "34/34 [==============================] - 1s 22ms/step - loss: 0.0010\n",
            "Epoch 7/50\n",
            "34/34 [==============================] - 1s 22ms/step - loss: 9.8619e-04\n",
            "Epoch 8/50\n",
            "34/34 [==============================] - 1s 22ms/step - loss: 9.8092e-04\n",
            "Epoch 9/50\n",
            "34/34 [==============================] - 1s 22ms/step - loss: 9.7236e-04\n",
            "Epoch 10/50\n",
            "34/34 [==============================] - 1s 22ms/step - loss: 9.5683e-04\n",
            "Epoch 11/50\n",
            "34/34 [==============================] - 1s 21ms/step - loss: 0.0010\n",
            "Epoch 12/50\n",
            "34/34 [==============================] - 1s 22ms/step - loss: 9.5313e-04\n",
            "Epoch 13/50\n",
            "34/34 [==============================] - 1s 22ms/step - loss: 9.5472e-04\n",
            "Epoch 14/50\n",
            "34/34 [==============================] - 1s 22ms/step - loss: 9.1381e-04\n",
            "Epoch 15/50\n",
            "34/34 [==============================] - 1s 21ms/step - loss: 9.0073e-04\n",
            "Epoch 16/50\n",
            "34/34 [==============================] - 1s 22ms/step - loss: 8.9192e-04\n",
            "Epoch 17/50\n",
            "34/34 [==============================] - 1s 21ms/step - loss: 8.7928e-04\n",
            "Epoch 18/50\n",
            "34/34 [==============================] - 1s 22ms/step - loss: 8.5783e-04\n",
            "Epoch 19/50\n",
            "34/34 [==============================] - 1s 21ms/step - loss: 8.5979e-04\n",
            "Epoch 20/50\n",
            "34/34 [==============================] - 1s 22ms/step - loss: 8.4440e-04\n",
            "Epoch 21/50\n",
            "34/34 [==============================] - 1s 22ms/step - loss: 8.3893e-04\n",
            "Epoch 22/50\n",
            "34/34 [==============================] - 1s 22ms/step - loss: 8.1361e-04\n",
            "Epoch 23/50\n",
            "34/34 [==============================] - 1s 22ms/step - loss: 8.0918e-04\n",
            "Epoch 24/50\n",
            "34/34 [==============================] - 1s 22ms/step - loss: 8.7785e-04\n",
            "Epoch 25/50\n",
            "34/34 [==============================] - 1s 22ms/step - loss: 8.0296e-04\n",
            "Epoch 26/50\n",
            "34/34 [==============================] - 1s 21ms/step - loss: 7.9619e-04\n",
            "Epoch 27/50\n",
            "34/34 [==============================] - 1s 21ms/step - loss: 7.6345e-04\n",
            "Epoch 28/50\n",
            "34/34 [==============================] - 1s 21ms/step - loss: 7.8019e-04\n",
            "Epoch 29/50\n",
            "34/34 [==============================] - 1s 22ms/step - loss: 7.4529e-04\n",
            "Epoch 30/50\n",
            "34/34 [==============================] - 1s 21ms/step - loss: 7.4221e-04\n",
            "Epoch 31/50\n",
            "34/34 [==============================] - 1s 21ms/step - loss: 7.2730e-04\n",
            "Epoch 32/50\n",
            "34/34 [==============================] - 1s 21ms/step - loss: 7.2956e-04\n",
            "Epoch 33/50\n",
            "34/34 [==============================] - 1s 21ms/step - loss: 7.0798e-04\n",
            "Epoch 34/50\n",
            "34/34 [==============================] - 1s 22ms/step - loss: 7.2633e-04\n",
            "Epoch 35/50\n",
            "34/34 [==============================] - 1s 22ms/step - loss: 7.3625e-04\n",
            "Epoch 36/50\n",
            "34/34 [==============================] - 1s 22ms/step - loss: 7.4801e-04\n",
            "Epoch 37/50\n",
            "34/34 [==============================] - 1s 22ms/step - loss: 7.0153e-04\n",
            "Epoch 38/50\n",
            "34/34 [==============================] - 1s 22ms/step - loss: 6.8486e-04\n",
            "Epoch 39/50\n",
            "34/34 [==============================] - 1s 22ms/step - loss: 6.7741e-04\n",
            "Epoch 40/50\n",
            "34/34 [==============================] - 1s 21ms/step - loss: 6.8445e-04\n",
            "Epoch 41/50\n",
            "34/34 [==============================] - 1s 22ms/step - loss: 6.5246e-04\n",
            "Epoch 42/50\n",
            "34/34 [==============================] - 1s 22ms/step - loss: 6.5103e-04\n",
            "Epoch 43/50\n",
            "34/34 [==============================] - 1s 22ms/step - loss: 6.5742e-04\n",
            "Epoch 44/50\n",
            "34/34 [==============================] - 1s 22ms/step - loss: 7.2522e-04\n",
            "Epoch 45/50\n",
            "34/34 [==============================] - 1s 21ms/step - loss: 6.4990e-04\n",
            "Epoch 46/50\n",
            "34/34 [==============================] - 1s 21ms/step - loss: 6.6081e-04\n",
            "Epoch 47/50\n",
            "34/34 [==============================] - 1s 21ms/step - loss: 6.7959e-04\n",
            "Epoch 48/50\n",
            "34/34 [==============================] - 1s 21ms/step - loss: 6.2392e-04\n",
            "Epoch 49/50\n",
            "34/34 [==============================] - 1s 22ms/step - loss: 6.1599e-04\n",
            "Epoch 50/50\n",
            "34/34 [==============================] - 1s 22ms/step - loss: 6.1361e-04\n"
          ],
          "name": "stdout"
        },
        {
          "output_type": "execute_result",
          "data": {
            "text/plain": [
              "<tensorflow.python.keras.callbacks.History at 0x7f80fc6e2210>"
            ]
          },
          "metadata": {
            "tags": []
          },
          "execution_count": 11
        }
      ]
    },
    {
      "cell_type": "code",
      "metadata": {
        "id": "Z0MNiUPl1wpJ"
      },
      "source": [
        "model1.save('LSTM_model1_multivariate.h5')"
      ],
      "execution_count": 132,
      "outputs": []
    },
    {
      "cell_type": "code",
      "metadata": {
        "id": "kLsDr4TN3jF8"
      },
      "source": [
        "prediction_Val_Y = model1.predict(val_X) "
      ],
      "execution_count": 133,
      "outputs": []
    },
    {
      "cell_type": "code",
      "metadata": {
        "id": "CN6_c1ls3klR"
      },
      "source": [
        "predict = np.repeat(prediction_Val_Y, train.shape[1], axis=-1)\n",
        "prediction_Val = scaler.inverse_transform(predict)[:, 0]"
      ],
      "execution_count": 134,
      "outputs": []
    },
    {
      "cell_type": "code",
      "metadata": {
        "id": "dBBq3udW3l6I"
      },
      "source": [
        "val_Y_repeated = np.repeat(val_Y, train.shape[1], axis=-1)\n",
        "val_Y = scaler.inverse_transform(val_Y_repeated)[:, 0]"
      ],
      "execution_count": 135,
      "outputs": []
    },
    {
      "cell_type": "code",
      "metadata": {
        "colab": {
          "base_uri": "https://localhost:8080/",
          "height": 514
        },
        "id": "m681wl-d3nRK",
        "outputId": "13d94489-dede-43bb-ccd0-a1b7b844adde"
      },
      "source": [
        "plt.figure(figsize=(10,8))\n",
        "plt.xlabel('Date')\n",
        "plt.ylabel('Close')\n",
        "plt.plot(val_Y, color = 'red', linewidth =1.5)\n",
        "plt.plot(prediction_Val, color = 'green', linewidth = 1.5)"
      ],
      "execution_count": 136,
      "outputs": [
        {
          "output_type": "execute_result",
          "data": {
            "text/plain": [
              "[<matplotlib.lines.Line2D at 0x7fb77db578d0>]"
            ]
          },
          "metadata": {
            "tags": []
          },
          "execution_count": 136
        },
        {
          "output_type": "display_data",
          "data": {
            "image/png": "[encoded data removed]",
            "text/plain": [
              "<Figure size 720x576 with 1 Axes>"
            ]
          },
          "metadata": {
            "tags": [],
            "needs_background": "light"
          }
        }
      ]
    },
    {
      "cell_type": "markdown",
      "metadata": {
        "id": "qDeF6rtXv5mC"
      },
      "source": [
        "Future Forecast"
      ]
    },
    {
      "cell_type": "code",
      "metadata": {
        "id": "7qdTZ9xbI7qM"
      },
      "source": [
        "x_input = val_X\n",
        "lst_output=[]\n",
        "n_steps=50\n",
        "i=0\n",
        "while(i<11):\n",
        "    \n",
        "    if(i >= 1):\n",
        "        x_input_last = x_input[-1]\n",
        "        x_input_add = scaled_data_validate_test[(426+i):(427+i)]\n",
        "        x_input_add[0][0] = yhat[-1][0]     \n",
        "        x_input_last = np.concatenate((x_input_last,x_input_add))\n",
        "        x_input = np.concatenate((x_input, np.reshape(x_input_last[1:], (1,n_steps,3))))\n",
        "        yhat = model1.predict(x_input, verbose=0)\n",
        "        i=i+1\n",
        "    else:\n",
        "        x_input_last = x_input[-1]\n",
        "        x_input_add = scaled_data_validate_test[(426+i):(427+i)]\n",
        "        x_input_add[0][0] = prediction_Val_Y[-1][0]\n",
        "        x_input_last = np.concatenate((x_input_last,x_input_add))\n",
        "        x_input = np.concatenate((x_input, np.reshape(x_input_last[1:], (1,n_steps,3))))\n",
        "        yhat = model1.predict(x_input, verbose=0)\n",
        "        i=i+1"
      ],
      "execution_count": 137,
      "outputs": []
    },
    {
      "cell_type": "code",
      "metadata": {
        "id": "u3ZN3mgj31_7"
      },
      "source": [
        "predict_test = np.repeat(yhat, train.shape[1], axis=-1)\n",
        "prediction_test = scaler.inverse_transform(predict_test)[:, 0]\n",
        "prediction_test = prediction_test[376:]"
      ],
      "execution_count": 138,
      "outputs": []
    },
    {
      "cell_type": "code",
      "metadata": {
        "colab": {
          "base_uri": "https://localhost:8080/",
          "height": 476
        },
        "id": "76eKlmkotpHV",
        "outputId": "8aedf3bb-60b5-405f-82d7-aa411cfbbdcb"
      },
      "source": [
        "plt.figure(figsize=(10,7))\n",
        "plt.xlabel('Date')\n",
        "plt.ylabel('Close')\n",
        "plt.title('LSTM- Multivariate')\n",
        "plt.plot(test['Close'].values, color = 'red', linewidth =1.5, label = 'Actual')\n",
        "plt.plot(prediction_test, color = 'green', linewidth = 1.5, label = 'Predicted')\n",
        "plt.legend()"
      ],
      "execution_count": null,
      "outputs": [
        {
          "output_type": "execute_result",
          "data": {
            "text/plain": [
              "<matplotlib.legend.Legend at 0x7f80f6a97f10>"
            ]
          },
          "metadata": {
            "tags": []
          },
          "execution_count": 20
        },
        {
          "output_type": "display_data",
          "data": {
            "image/png": "[encoded data removed]",
            "text/plain": [
              "<Figure size 720x504 with 1 Axes>"
            ]
          },
          "metadata": {
            "tags": [],
            "needs_background": "light"
          }
        }
      ]
    },
    {
      "cell_type": "code",
      "metadata": {
        "colab": {
          "base_uri": "https://localhost:8080/"
        },
        "id": "knckUzGUtpHV",
        "outputId": "f6b220fb-d6ca-48c1-8c70-50f432124223"
      },
      "source": [
        "#rmse value on the test data\n",
        "result = mean_squared_error(test['Close'].values,prediction_test, squared=False)\n",
        "print(result)"
      ],
      "execution_count": null,
      "outputs": [
        {
          "output_type": "stream",
          "text": [
            "16.821745412037682\n"
          ],
          "name": "stdout"
        }
      ]
    },
    {
      "cell_type": "code",
      "metadata": {
        "colab": {
          "base_uri": "https://localhost:8080/"
        },
        "id": "I-Cb3tM9tpHW",
        "outputId": "be9d5908-1af2-4cac-88e0-6f49cf86be8e"
      },
      "source": [
        "prediction_test"
      ],
      "execution_count": null,
      "outputs": [
        {
          "output_type": "execute_result",
          "data": {
            "text/plain": [
              "array([621.35004, 625.5395 , 630.09625, 636.9221 , 641.70105, 647.0961 ,\n",
              "       652.7879 , 658.49615, 666.003  , 670.46094, 676.8719 ],\n",
              "      dtype=float32)"
            ]
          },
          "metadata": {
            "tags": []
          },
          "execution_count": 22
        }
      ]
    },
    {
      "cell_type": "markdown",
      "metadata": {
        "id": "TQhg70Q6BaW-"
      },
      "source": [
        "# **Model2- CNN**"
      ]
    },
    {
      "cell_type": "code",
      "metadata": {
        "id": "XXRm8HJFBZna"
      },
      "source": [
        "df_cnn = pd.read_csv('/content/drive/MyDrive/dataset/merged_df.csv')"
      ],
      "execution_count": 162,
      "outputs": []
    },
    {
      "cell_type": "code",
      "metadata": {
        "id": "vSunD1KABi9w"
      },
      "source": [
        "df_cnn['Date'] = pd.to_datetime(df_cnn['Date'])\n",
        "df_cnn.set_index('Date', inplace=True)"
      ],
      "execution_count": 163,
      "outputs": []
    },
    {
      "cell_type": "code",
      "metadata": {
        "id": "BixwTz4NBmO0"
      },
      "source": [
        "df_cnn = df_cnn.drop(df_cnn.loc[:, ~df_cnn.columns.isin(['Volume', 'Close', 'Whole_Paragraph'])].columns, axis = 1)"
      ],
      "execution_count": 164,
      "outputs": []
    },
    {
      "cell_type": "markdown",
      "metadata": {
        "id": "QOiLmi8RwCC9"
      },
      "source": [
        "Check Multicolinearity"
      ]
    },
    {
      "cell_type": "code",
      "metadata": {
        "colab": {
          "base_uri": "https://localhost:8080/",
          "height": 144
        },
        "id": "p4DsgEYVBpNp",
        "outputId": "3f976d8b-4688-45a1-cf9e-962cd952499e"
      },
      "source": [
        "vif = pd.DataFrame()\n",
        "vif[\"variables\"] = df_cnn.columns\n",
        "vif[\"VIF\"] = [variance_inflation_factor(df_cnn.values, i) for i in range(df_cnn.shape[1])]\n",
        "vif"
      ],
      "execution_count": 165,
      "outputs": [
        {
          "output_type": "execute_result",
          "data": {
            "text/html": [
              "<div>\n",
              "<style scoped>\n",
              "    .dataframe tbody tr th:only-of-type {\n",
              "        vertical-align: middle;\n",
              "    }\n",
              "\n",
              "    .dataframe tbody tr th {\n",
              "        vertical-align: top;\n",
              "    }\n",
              "\n",
              "    .dataframe thead th {\n",
              "        text-align: right;\n",
              "    }\n",
              "</style>\n",
              "<table border=\"1\" class=\"dataframe\">\n",
              "  <thead>\n",
              "    <tr style=\"text-align: right;\">\n",
              "      <th></th>\n",
              "      <th>variables</th>\n",
              "      <th>VIF</th>\n",
              "    </tr>\n",
              "  </thead>\n",
              "  <tbody>\n",
              "    <tr>\n",
              "      <th>0</th>\n",
              "      <td>Close</td>\n",
              "      <td>1.452416</td>\n",
              "    </tr>\n",
              "    <tr>\n",
              "      <th>1</th>\n",
              "      <td>Volume</td>\n",
              "      <td>1.455157</td>\n",
              "    </tr>\n",
              "    <tr>\n",
              "      <th>2</th>\n",
              "      <td>Whole_Paragraph</td>\n",
              "      <td>1.417348</td>\n",
              "    </tr>\n",
              "  </tbody>\n",
              "</table>\n",
              "</div>"
            ],
            "text/plain": [
              "         variables       VIF\n",
              "0            Close  1.452416\n",
              "1           Volume  1.455157\n",
              "2  Whole_Paragraph  1.417348"
            ]
          },
          "metadata": {
            "tags": []
          },
          "execution_count": 165
        }
      ]
    },
    {
      "cell_type": "markdown",
      "metadata": {
        "id": "LhvSym_kwFNM"
      },
      "source": [
        "Split dataset"
      ]
    },
    {
      "cell_type": "code",
      "metadata": {
        "id": "HebctoOZB7Em"
      },
      "source": [
        "sample, test = train_test_split(df_cnn, test_size=0.005, shuffle = False)\n",
        "train, val = train_test_split(sample, train_size = 0.80, shuffle = False)"
      ],
      "execution_count": 166,
      "outputs": []
    },
    {
      "cell_type": "markdown",
      "metadata": {
        "id": "2GCvmcafwHAj"
      },
      "source": [
        "Scaling features"
      ]
    },
    {
      "cell_type": "code",
      "metadata": {
        "id": "ZYZY6qHYB7Ey"
      },
      "source": [
        "scaler = MinMaxScaler(feature_range=(0,1))\n",
        "scaled_data_train = scaler.fit_transform(train)\n",
        "scaled_data_validate = scaler.fit_transform(val)\n",
        "val_Test = np.concatenate((val, test))\n",
        "scaled_data_validate_test = scaler.fit_transform(val_Test)"
      ],
      "execution_count": 167,
      "outputs": []
    },
    {
      "cell_type": "markdown",
      "metadata": {
        "id": "JyPBHnU9wK_u"
      },
      "source": [
        "Reshape dataset"
      ]
    },
    {
      "cell_type": "code",
      "metadata": {
        "id": "CfI0zxG4B7Ey"
      },
      "source": [
        "timeStep = 50\n",
        "train_X, train_Y = [], []\n",
        "val_X, val_Y = [], []\n",
        "\n",
        "for i in range(timeStep, len(scaled_data_train)):\n",
        "  train_X.append(scaled_data_train[i-timeStep:i,:])\n",
        "  train_Y.append([scaled_data_train[i, 0]])\n",
        "\n",
        "for i in range(timeStep, len(scaled_data_validate)):   \n",
        "  val_X.append(scaled_data_validate[i-timeStep:i,:])\n",
        "  val_Y.append([scaled_data_validate[i, 0]])\n",
        "\n",
        "train_X, train_Y = np.array(train_X), np.array(train_Y)\n",
        "val_X, val_Y = np.array(val_X), np.array(val_Y)"
      ],
      "execution_count": 168,
      "outputs": []
    },
    {
      "cell_type": "markdown",
      "metadata": {
        "id": "pNVSt939wPXk"
      },
      "source": [
        "Model Creation"
      ]
    },
    {
      "cell_type": "code",
      "metadata": {
        "id": "M8CaUNgYfgcp"
      },
      "source": [
        "model2 = Sequential()\n",
        "model2.add(LSTM(64, return_sequences=True, input_shape=(train_X.shape[1],3)))\n",
        "model2.add(Conv1D(64, 3, padding='same', activation='relu'))\n",
        "model2.add(LSTM(128, return_sequences=False))\n",
        "model2.add(Dense(1)) \n",
        "model2.compile(loss='mean_squared_error', optimizer='Adam')"
      ],
      "execution_count": null,
      "outputs": []
    },
    {
      "cell_type": "code",
      "metadata": {
        "colab": {
          "base_uri": "https://localhost:8080/"
        },
        "id": "09XHXIU_Fqvy",
        "outputId": "6d70966e-0396-40f3-d0fa-d9553917e02a"
      },
      "source": [
        "model2.fit(train_X, train_Y, epochs=100, batch_size=50, verbose=0)"
      ],
      "execution_count": 171,
      "outputs": [
        {
          "output_type": "execute_result",
          "data": {
            "text/plain": [
              "<tensorflow.python.keras.callbacks.History at 0x7fb779a481d0>"
            ]
          },
          "metadata": {
            "tags": []
          },
          "execution_count": 171
        }
      ]
    },
    {
      "cell_type": "code",
      "metadata": {
        "id": "sTXEua_4GIcA"
      },
      "source": [
        "prediction_Val_Y = model2.predict(val_X) "
      ],
      "execution_count": 172,
      "outputs": []
    },
    {
      "cell_type": "markdown",
      "metadata": {
        "id": "cUjmtrSvwSP2"
      },
      "source": [
        "Predict validation set"
      ]
    },
    {
      "cell_type": "code",
      "metadata": {
        "id": "DiFwV9TqGIcA"
      },
      "source": [
        "predict = np.repeat(prediction_Val_Y, train.shape[1], axis=-1)\n",
        "prediction_Val = scaler.inverse_transform(predict)[:, 0]"
      ],
      "execution_count": 173,
      "outputs": []
    },
    {
      "cell_type": "code",
      "metadata": {
        "id": "oifEw9pvGIcA"
      },
      "source": [
        "val_Y_repeated = np.repeat(val_Y, train.shape[1], axis=-1)\n",
        "val_Y = scaler.inverse_transform(val_Y_repeated)[:, 0]"
      ],
      "execution_count": 174,
      "outputs": []
    },
    {
      "cell_type": "code",
      "metadata": {
        "colab": {
          "base_uri": "https://localhost:8080/",
          "height": 624
        },
        "id": "_SvhHIblfqv0",
        "outputId": "0e42744d-7a8f-4856-da6f-476fbd57a016"
      },
      "source": [
        "plt.figure(figsize=(20,10))\n",
        "plt.xlabel('Date')\n",
        "plt.ylabel('Close')\n",
        "plt.plot(val_Y, color = 'red', linewidth =1.5)\n",
        "plt.plot(prediction_Val, color = 'green', linewidth = 1.5)"
      ],
      "execution_count": null,
      "outputs": [
        {
          "output_type": "execute_result",
          "data": {
            "text/plain": [
              "[<matplotlib.lines.Line2D at 0x7f062bd29cd0>]"
            ]
          },
          "metadata": {
            "tags": []
          },
          "execution_count": 33
        },
        {
          "output_type": "display_data",
          "data": {
            "image/png": "[encoded data removed]",
            "text/plain": [
              "<Figure size 1440x720 with 1 Axes>"
            ]
          },
          "metadata": {
            "tags": [],
            "needs_background": "light"
          }
        }
      ]
    },
    {
      "cell_type": "markdown",
      "metadata": {
        "id": "WLyCLAKKwVOi"
      },
      "source": [
        "Future Forecast"
      ]
    },
    {
      "cell_type": "code",
      "metadata": {
        "id": "PuQmORnxHoYM"
      },
      "source": [
        "x_input = val_X\n",
        "lst_output=[]\n",
        "n_steps=50\n",
        "i=0\n",
        "while(i<11):\n",
        "    \n",
        "    if(i >= 1):\n",
        "        x_input_last = x_input[-1]\n",
        "        x_input_add = scaled_data_validate_test[(426+i):(427+i)]\n",
        "        x_input_add[0][0] = yhat[-1][0]     \n",
        "        x_input_last = np.concatenate((x_input_last,x_input_add))\n",
        "        x_input = np.concatenate((x_input, np.reshape(x_input_last[1:], (1,n_steps,3))))\n",
        "        yhat = model2.predict(x_input, verbose=0)\n",
        "        i=i+1\n",
        "    else:\n",
        "        x_input_last = x_input[-1]\n",
        "        x_input_add = scaled_data_validate_test[(426+i):(427+i)]\n",
        "        x_input_add[0][0] = prediction_Val_Y[-1][0]\n",
        "        x_input_last = np.concatenate((x_input_last,x_input_add))\n",
        "        x_input = np.concatenate((x_input, np.reshape(x_input_last[1:], (1,n_steps,3))))\n",
        "        yhat = model2.predict(x_input, verbose=0)\n",
        "        i=i+1"
      ],
      "execution_count": 176,
      "outputs": []
    },
    {
      "cell_type": "code",
      "metadata": {
        "id": "OnHKjEqVHoYM"
      },
      "source": [
        "predict_test = np.repeat(yhat, train.shape[1], axis=-1)\n",
        "prediction_test = scaler.inverse_transform(predict_test)[:, 0]\n",
        "prediction_test = prediction_test[376:]"
      ],
      "execution_count": 177,
      "outputs": []
    },
    {
      "cell_type": "code",
      "metadata": {
        "colab": {
          "base_uri": "https://localhost:8080/",
          "height": 476
        },
        "id": "9oMilrI3fvJu",
        "outputId": "908b2187-b76a-434d-e3b1-49dedb760f47"
      },
      "source": [
        "plt.figure(figsize=(10,7))\n",
        "plt.xlabel('Date')\n",
        "plt.ylabel('Close')\n",
        "plt.title('LSTM+CNN- Multivariate')\n",
        "plt.plot(test['Close'].values, color = 'red', linewidth =1.5, label='Actual')\n",
        "plt.plot(prediction_test, color = 'green', linewidth = 1.5, label='Predicted')\n",
        "plt.legend()"
      ],
      "execution_count": null,
      "outputs": [
        {
          "output_type": "execute_result",
          "data": {
            "text/plain": [
              "<matplotlib.legend.Legend at 0x7f062b27cf50>"
            ]
          },
          "metadata": {
            "tags": []
          },
          "execution_count": 36
        },
        {
          "output_type": "display_data",
          "data": {
            "image/png": "[encoded data removed]",
            "text/plain": [
              "<Figure size 720x504 with 1 Axes>"
            ]
          },
          "metadata": {
            "tags": [],
            "needs_background": "light"
          }
        }
      ]
    },
    {
      "cell_type": "code",
      "metadata": {
        "colab": {
          "base_uri": "https://localhost:8080/"
        },
        "id": "KHJnjGDSHoYM",
        "outputId": "a70bf543-57cc-4a6f-b481-4d960b79b2e0"
      },
      "source": [
        "#rmse value on the test data\n",
        "result = mean_squared_error(test['Close'].values,prediction_test, squared=False)\n",
        "print(result)"
      ],
      "execution_count": null,
      "outputs": [
        {
          "output_type": "stream",
          "text": [
            "18.936289478194475\n"
          ],
          "name": "stdout"
        }
      ]
    },
    {
      "cell_type": "code",
      "metadata": {
        "colab": {
          "base_uri": "https://localhost:8080/"
        },
        "id": "gGRBAdyZHoYN",
        "outputId": "b573f24c-4cc6-4d61-b940-f13083dea5f1"
      },
      "source": [
        "prediction_test"
      ],
      "execution_count": null,
      "outputs": [
        {
          "output_type": "execute_result",
          "data": {
            "text/plain": [
              "array([620.3759 , 625.156  , 629.3031 , 632.9186 , 636.8448 , 641.7192 ,\n",
              "       646.5712 , 651.104  , 656.25555, 660.59814, 663.512  ],\n",
              "      dtype=float32)"
            ]
          },
          "metadata": {
            "tags": []
          },
          "execution_count": 38
        }
      ]
    }
  ]
}